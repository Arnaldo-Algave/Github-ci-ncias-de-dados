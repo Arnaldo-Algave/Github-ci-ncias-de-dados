{
  "nbformat": 4,
  "nbformat_minor": 0,
  "metadata": {
    "colab": {
      "provenance": []
    },
    "kernelspec": {
      "name": "python3",
      "display_name": "Python 3"
    },
    "language_info": {
      "name": "python"
    }
  },
  "cells": [
    {
      "cell_type": "markdown",
      "source": [
        "Relatório de Aula Prática - Processamento de Linguagem Natural - Nlp\n",
        "\n",
        "\n",
        "\n",
        "Aluno - Arnaldo Oliveira Algave Junior\n"
      ],
      "metadata": {
        "id": "Cd2kQOPOlRDz"
      }
    },
    {
      "cell_type": "code",
      "execution_count": null,
      "metadata": {
        "colab": {
          "base_uri": "https://localhost:8080/"
        },
        "id": "Mhtwwg_KsHAC",
        "outputId": "e0abcbe3-dddb-4cc3-e239-295defbb5354"
      },
      "outputs": [
        {
          "output_type": "stream",
          "name": "stdout",
          "text": [
            "Requirement already satisfied: nltk in /usr/local/lib/python3.10/dist-packages (3.8.1)\n",
            "Requirement already satisfied: click in /usr/local/lib/python3.10/dist-packages (from nltk) (8.1.7)\n",
            "Requirement already satisfied: joblib in /usr/local/lib/python3.10/dist-packages (from nltk) (1.4.2)\n",
            "Requirement already satisfied: regex>=2021.8.3 in /usr/local/lib/python3.10/dist-packages (from nltk) (2023.12.25)\n",
            "Requirement already satisfied: tqdm in /usr/local/lib/python3.10/dist-packages (from nltk) (4.66.4)\n",
            "Requirement already satisfied: textblob in /usr/local/lib/python3.10/dist-packages (0.17.1)\n",
            "Requirement already satisfied: nltk>=3.1 in /usr/local/lib/python3.10/dist-packages (from textblob) (3.8.1)\n",
            "Requirement already satisfied: click in /usr/local/lib/python3.10/dist-packages (from nltk>=3.1->textblob) (8.1.7)\n",
            "Requirement already satisfied: joblib in /usr/local/lib/python3.10/dist-packages (from nltk>=3.1->textblob) (1.4.2)\n",
            "Requirement already satisfied: regex>=2021.8.3 in /usr/local/lib/python3.10/dist-packages (from nltk>=3.1->textblob) (2023.12.25)\n",
            "Requirement already satisfied: tqdm in /usr/local/lib/python3.10/dist-packages (from nltk>=3.1->textblob) (4.66.4)\n",
            "Requirement already satisfied: tk in /usr/local/lib/python3.10/dist-packages (0.1.0)\n",
            "Requirement already satisfied: SpeechRecognition in /usr/local/lib/python3.10/dist-packages (3.10.4)\n",
            "Requirement already satisfied: requests>=2.26.0 in /usr/local/lib/python3.10/dist-packages (from SpeechRecognition) (2.31.0)\n",
            "Requirement already satisfied: typing-extensions in /usr/local/lib/python3.10/dist-packages (from SpeechRecognition) (4.11.0)\n",
            "Requirement already satisfied: charset-normalizer<4,>=2 in /usr/local/lib/python3.10/dist-packages (from requests>=2.26.0->SpeechRecognition) (3.3.2)\n",
            "Requirement already satisfied: idna<4,>=2.5 in /usr/local/lib/python3.10/dist-packages (from requests>=2.26.0->SpeechRecognition) (3.7)\n",
            "Requirement already satisfied: urllib3<3,>=1.21.1 in /usr/local/lib/python3.10/dist-packages (from requests>=2.26.0->SpeechRecognition) (2.0.7)\n",
            "Requirement already satisfied: certifi>=2017.4.17 in /usr/local/lib/python3.10/dist-packages (from requests>=2.26.0->SpeechRecognition) (2024.2.2)\n"
          ]
        }
      ],
      "source": [
        "!pip install nltk\n",
        "!pip install textblob\n",
        "!pip install tk\n",
        "!pip install SpeechRecognition\n"
      ]
    },
    {
      "cell_type": "code",
      "source": [
        "import nltk\n",
        "from nltk.chat.util import Chat, reflections\n",
        "from textblob import TextBlob\n",
        "import tkinter as tk\n"
      ],
      "metadata": {
        "id": "ZnDicozAt8XZ"
      },
      "execution_count": null,
      "outputs": []
    },
    {
      "cell_type": "code",
      "source": [
        "import nltk\n",
        "\n",
        "# Baixar recursos de linguagem do NLTK\n",
        "nltk.download('stopwords')\n",
        "nltk.download('punkt')\n"
      ],
      "metadata": {
        "colab": {
          "base_uri": "https://localhost:8080/"
        },
        "id": "2OvIfBXCuIxa",
        "outputId": "4aae9b4f-122d-4689-f86e-76337ba47e0d"
      },
      "execution_count": null,
      "outputs": [
        {
          "output_type": "stream",
          "name": "stderr",
          "text": [
            "[nltk_data] Downloading package stopwords to /root/nltk_data...\n",
            "[nltk_data]   Unzipping corpora/stopwords.zip.\n",
            "[nltk_data] Downloading package punkt to /root/nltk_data...\n",
            "[nltk_data]   Unzipping tokenizers/punkt.zip.\n"
          ]
        },
        {
          "output_type": "execute_result",
          "data": {
            "text/plain": [
              "True"
            ]
          },
          "metadata": {},
          "execution_count": 9
        }
      ]
    },
    {
      "cell_type": "code",
      "source": [
        "pares = [\n",
        "    ['Oi', ['Olá!', 'Olá, como posso ajudar?']],\n",
        "    ['Como você está?', ['Estou bem, obrigado. E você?', 'Tudo bem!']],\n",
        "    ['Quem é você?', ['Sou seu assistente virtual.', 'Me chame de ChatGPT.']],\n",
        "    ['Qual é o seu objetivo?', ['Meu objetivo é ajudar a responder suas perguntas.', 'Estou aqui para te auxiliar.']],\n",
        "]\n"
      ],
      "metadata": {
        "id": "X_4gin8ou-m5"
      },
      "execution_count": null,
      "outputs": []
    },
    {
      "cell_type": "code",
      "source": [
        "chatbot = Chat(pares, reflections)\n"
      ],
      "metadata": {
        "id": "JNsh2ns_vLvE"
      },
      "execution_count": null,
      "outputs": []
    },
    {
      "cell_type": "code",
      "source": [
        "def chat():\n",
        "    print(\"Olá! Digite 'sair' para encerrar o chat.\")\n",
        "    while True:\n",
        "        mensagem = input(\"Você: \")\n",
        "        if mensagem.lower() == 'sair':\n",
        "            print(\"Chat encerrado.\")\n",
        "            break\n",
        "        resposta = chatbot.respond(mensagem)\n",
        "        print(\"ChatGPT: \", resposta)\n",
        "\n",
        "chat()\n"
      ],
      "metadata": {
        "colab": {
          "base_uri": "https://localhost:8080/"
        },
        "id": "TOp1wXEEvrSF",
        "outputId": "5bb6b7cd-6f7e-4236-e9d4-5537dcebd662"
      },
      "execution_count": null,
      "outputs": [
        {
          "output_type": "stream",
          "name": "stdout",
          "text": [
            "Olá! Digite 'sair' para encerrar o chat.\n",
            "Você: Arnaldo \n",
            "ChatGPT:  None\n",
            "Você: sair\n",
            "Chat encerrado.\n"
          ]
        }
      ]
    },
    {
      "cell_type": "code",
      "source": [
        "from textblob import TextBlob\n",
        "\n",
        "def analisar_sentimento(texto):\n",
        "    blob = TextBlob(texto)\n",
        "    polaridade = blob.sentiment.polarity\n",
        "    if polaridade > 0:\n",
        "        return \"Isso parece positivo!\"\n",
        "    elif polaridade < 0:\n",
        "        return \"Isso parece negativo.\"\n",
        "    else:\n",
        "        return \"Não consigo determinar o sentimento com certeza.\"\n",
        "\n",
        "mensagem_usuario = input(\"Digite algo para análise de sentimento: \")\n",
        "resultado_sentimento = analisar_sentimento(mensagem_usuario)\n",
        "print(\"Análise de Sentimento: \", resultado_sentimento)\n"
      ],
      "metadata": {
        "colab": {
          "base_uri": "https://localhost:8080/"
        },
        "id": "APgREAZUwCz_",
        "outputId": "4cf10769-a9e9-4ebf-bc64-8a8f6a63d017"
      },
      "execution_count": null,
      "outputs": [
        {
          "output_type": "stream",
          "name": "stdout",
          "text": [
            "Digite algo para análise de sentimento: hoje estou feliz\n",
            "Análise de Sentimento:  Não consigo determinar o sentimento com certeza.\n"
          ]
        }
      ]
    },
    {
      "cell_type": "code",
      "source": [
        "\n",
        "\n",
        "# Atividade Construção de um Algoritmo NLP com Python NLTK\n",
        "import nltk\n",
        "nltk.download('punkt')"
      ],
      "metadata": {
        "colab": {
          "base_uri": "https://localhost:8080/"
        },
        "id": "7Wsn0EGD0VGp",
        "outputId": "8ca8ceed-0e55-47bf-fdad-ec70260f02a0"
      },
      "execution_count": null,
      "outputs": [
        {
          "output_type": "stream",
          "name": "stderr",
          "text": [
            "[nltk_data] Downloading package punkt to /root/nltk_data...\n",
            "[nltk_data]   Package punkt is already up-to-date!\n"
          ]
        },
        {
          "output_type": "execute_result",
          "data": {
            "text/plain": [
              "True"
            ]
          },
          "metadata": {},
          "execution_count": 15
        }
      ]
    },
    {
      "cell_type": "code",
      "source": [
        "from nltk.tokenize import word_tokenize\n",
        "texto_exemplo = \"O processamento de linguagem natural(NPL) é uma area da inteligencia aritifial\"\n",
        "Tokens = word_tokenize(texto_exemplo)"
      ],
      "metadata": {
        "id": "zB3fGYtW1F3p"
      },
      "execution_count": null,
      "outputs": []
    },
    {
      "cell_type": "code",
      "source": [
        "from nltk.tokenize import word_tokenize\n",
        "from nltk.corpus import stopwords\n",
        "\n",
        "texto_exemplo = \"O processamento de linguagem natural(NLP) é uma área da inteligência artificial.\"\n",
        "\n",
        "tokens = word_tokenize(texto_exemplo)\n",
        "\n",
        "stop_words = set(stopwords.words('portuguese'))\n",
        "\n",
        "filtered_tokens = [word for word in tokens if word.lower() not in stop_words]\n",
        "\n",
        "print(filtered_tokens)\n"
      ],
      "metadata": {
        "colab": {
          "base_uri": "https://localhost:8080/"
        },
        "id": "i2M1b7j_2ZnJ",
        "outputId": "a8422a67-5ad5-47e0-8020-328cd5cb442b"
      },
      "execution_count": null,
      "outputs": [
        {
          "output_type": "stream",
          "name": "stdout",
          "text": [
            "['processamento', 'linguagem', 'natural', '(', 'NLP', ')', 'área', 'inteligência', 'artificial', '.']\n"
          ]
        }
      ]
    },
    {
      "cell_type": "code",
      "source": [
        "from nltk.tokenize import word_tokenize\n",
        "from nltk.corpus import stopwords\n",
        "from collections import Counter\n",
        "texto_exemplo = \"O processamento de linguagem natural(NLP) é uma área da inteligência artificial.\"\n",
        "\n",
        "\n",
        "tokens = word_tokenize(texto_exemplo)\n",
        "\n",
        "\n",
        "stop_words = set(stopwords.words('portuguese'))\n",
        "\n",
        "\n",
        "tokens_sem_stopwords = [word for word in tokens if word.lower() not in stop_words]\n",
        "\n",
        "\n",
        "frequencia_tokens = Counter(tokens_sem_stopwords)\n",
        "\n",
        "print(\"Análise de Frequência dos Tokens:\")\n",
        "for token, frequencia in frequencia_tokens.items():\n",
        "    print(f\"{token}: {frequencia}\")\n"
      ],
      "metadata": {
        "colab": {
          "base_uri": "https://localhost:8080/"
        },
        "id": "MQDoALid9Nr8",
        "outputId": "5ee79919-fd01-430d-b58e-ca7d6a0afc96"
      },
      "execution_count": null,
      "outputs": [
        {
          "output_type": "stream",
          "name": "stdout",
          "text": [
            "Análise de Frequência dos Tokens:\n",
            "processamento: 1\n",
            "linguagem: 1\n",
            "natural: 1\n",
            "(: 1\n",
            "NLP: 1\n",
            "): 1\n",
            "área: 1\n",
            "inteligência: 1\n",
            "artificial: 1\n",
            ".: 1\n"
          ]
        }
      ]
    }
  ]
}